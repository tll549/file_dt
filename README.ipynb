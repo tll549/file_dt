{
 "cells": [
  {
   "cell_type": "markdown",
   "metadata": {},
   "source": [
    "This is a quick script that allows you to save common file to any location with date time appended behind like \"filename_1912181212.csv\" (`save_dt`). Everytime you want to load it back, just use `load_newest`, it will automatically find the newest file.\n",
    "\n",
    "Feel free to download/edit this script, and maybe share your version with me!"
   ]
  },
  {
   "cell_type": "code",
   "execution_count": 1,
   "metadata": {
    "ExecuteTime": {
     "end_time": "2019-12-24T07:07:51.879673Z",
     "start_time": "2019-12-24T07:07:51.876172Z"
    }
   },
   "outputs": [],
   "source": [
    "# ignore this block if you install from pip\n",
    "import sys\n",
    "sys.path.insert(0, './sldt')"
   ]
  },
  {
   "cell_type": "code",
   "execution_count": 2,
   "metadata": {
    "ExecuteTime": {
     "end_time": "2019-12-24T07:07:52.591707Z",
     "start_time": "2019-12-24T07:07:51.886670Z"
    }
   },
   "outputs": [],
   "source": [
    "import sldt"
   ]
  },
  {
   "cell_type": "code",
   "execution_count": 3,
   "metadata": {
    "ExecuteTime": {
     "end_time": "2019-12-24T07:07:52.598679Z",
     "start_time": "2019-12-24T07:07:52.594672Z"
    }
   },
   "outputs": [],
   "source": [
    "# launch logger to see info when saving and loading files\n",
    "import logging\n",
    "logging.getLogger().setLevel(logging.INFO)"
   ]
  },
  {
   "cell_type": "code",
   "execution_count": 4,
   "metadata": {
    "ExecuteTime": {
     "end_time": "2019-12-24T07:07:52.618673Z",
     "start_time": "2019-12-24T07:07:52.601669Z"
    }
   },
   "outputs": [
    {
     "data": {
      "text/plain": [
       "['.pkl', '.csv', '.png', '.txt']"
      ]
     },
     "execution_count": 4,
     "metadata": {},
     "output_type": "execute_result"
    }
   ],
   "source": [
    "sldt.SUPPORTED_EXT"
   ]
  },
  {
   "cell_type": "markdown",
   "metadata": {},
   "source": [
    "## anything → pkl"
   ]
  },
  {
   "cell_type": "code",
   "execution_count": 5,
   "metadata": {
    "ExecuteTime": {
     "end_time": "2019-12-24T07:08:52.642670Z",
     "start_time": "2019-12-24T07:07:52.621172Z"
    }
   },
   "outputs": [
    {
     "name": "stderr",
     "output_type": "stream",
     "text": [
      "INFO:root:output/a_list_1912240107.pkl saved\n",
      "INFO:root:output/a_list_1912240108.pkl saved\n",
      "INFO:root:output/a_list_1912240108.pkl loaded\n"
     ]
    },
    {
     "data": {
      "text/plain": [
       "['a', 0.1, False]"
      ]
     },
     "execution_count": 5,
     "metadata": {},
     "output_type": "execute_result"
    }
   ],
   "source": [
    "a_list = ['a', 0.1, False]\n",
    "\n",
    "# save two files for demo\n",
    "sldt.s(a_list, 'output/a_list.pkl')\n",
    "import time\n",
    "time.sleep(60)\n",
    "sldt.s(a_list, 'output/a_list.pkl')\n",
    "\n",
    "# it will load the newest (which is the later one) back\n",
    "a_list = sldt.l('output/a_list.pkl')\n",
    "a_list"
   ]
  },
  {
   "cell_type": "markdown",
   "metadata": {},
   "source": [
    "## pandas dataframe → csv"
   ]
  },
  {
   "cell_type": "code",
   "execution_count": 6,
   "metadata": {
    "ExecuteTime": {
     "end_time": "2019-12-24T07:08:52.685669Z",
     "start_time": "2019-12-24T07:08:52.645677Z"
    }
   },
   "outputs": [
    {
     "name": "stderr",
     "output_type": "stream",
     "text": [
      "INFO:root:output/df_1912240108.csv saved\n",
      "INFO:root:output/df_1912240108.csv loaded\n"
     ]
    },
    {
     "data": {
      "text/html": [
       "<div>\n",
       "<style scoped>\n",
       "    .dataframe tbody tr th:only-of-type {\n",
       "        vertical-align: middle;\n",
       "    }\n",
       "\n",
       "    .dataframe tbody tr th {\n",
       "        vertical-align: top;\n",
       "    }\n",
       "\n",
       "    .dataframe thead th {\n",
       "        text-align: right;\n",
       "    }\n",
       "</style>\n",
       "<table border=\"1\" class=\"dataframe\">\n",
       "  <thead>\n",
       "    <tr style=\"text-align: right;\">\n",
       "      <th></th>\n",
       "      <th>col1</th>\n",
       "      <th>col2</th>\n",
       "    </tr>\n",
       "  </thead>\n",
       "  <tbody>\n",
       "    <tr>\n",
       "      <th>0</th>\n",
       "      <td>1</td>\n",
       "      <td>3</td>\n",
       "    </tr>\n",
       "    <tr>\n",
       "      <th>1</th>\n",
       "      <td>2</td>\n",
       "      <td>4</td>\n",
       "    </tr>\n",
       "  </tbody>\n",
       "</table>\n",
       "</div>"
      ],
      "text/plain": [
       "   col1  col2\n",
       "0     1     3\n",
       "1     2     4"
      ]
     },
     "execution_count": 6,
     "metadata": {},
     "output_type": "execute_result"
    }
   ],
   "source": [
    "import pandas as pd\n",
    "df = pd.DataFrame({'col1': [1, 2], 'col2': [3, 4]})\n",
    "sldt.s(df, 'output/df.csv')\n",
    "\n",
    "df = sldt.l('output/df.csv')\n",
    "df"
   ]
  },
  {
   "cell_type": "markdown",
   "metadata": {},
   "source": [
    "you can pass any argument as to `pd.DataFrame.to_csv()`, if there's no arguments in `save_dt`, the default will be `index=False`.\n",
    "\n",
    "For example, `save_dt(df, 'output/df.csv', sep=';')`"
   ]
  },
  {
   "cell_type": "markdown",
   "metadata": {},
   "source": [
    "## figure → png"
   ]
  },
  {
   "cell_type": "code",
   "execution_count": 7,
   "metadata": {
    "ExecuteTime": {
     "end_time": "2019-12-24T07:08:56.581198Z",
     "start_time": "2019-12-24T07:08:52.688670Z"
    }
   },
   "outputs": [
    {
     "name": "stderr",
     "output_type": "stream",
     "text": [
      "INFO:root:output/g_1912240108.png saved\n"
     ]
    }
   ],
   "source": [
    "import seaborn as sns\n",
    "exercise = sns.load_dataset(\"exercise\")\n",
    "g = sns.catplot(x=\"time\", y=\"pulse\", hue=\"kind\", data=exercise)\n",
    "\n",
    "sldt.s(g, 'output/g.png')"
   ]
  },
  {
   "cell_type": "markdown",
   "metadata": {},
   "source": [
    "Display it using `![](output/g_1912240037.png)` in markdown:"
   ]
  },
  {
   "cell_type": "markdown",
   "metadata": {
    "ExecuteTime": {
     "end_time": "2019-12-24T06:38:11.495671Z",
     "start_time": "2019-12-24T06:38:11.476169Z"
    }
   },
   "source": [
    "![](output/g_1912240037.png)"
   ]
  },
  {
   "cell_type": "markdown",
   "metadata": {},
   "source": [
    "the default arguments will be `dpi=600, bbox_inches: 'tight'`. And it will try to close the fig after saving the file."
   ]
  },
  {
   "cell_type": "markdown",
   "metadata": {},
   "source": [
    "## string → txt"
   ]
  },
  {
   "cell_type": "code",
   "execution_count": 8,
   "metadata": {
    "ExecuteTime": {
     "end_time": "2019-12-24T07:08:56.597170Z",
     "start_time": "2019-12-24T07:08:56.583688Z"
    }
   },
   "outputs": [
    {
     "name": "stderr",
     "output_type": "stream",
     "text": [
      "INFO:root:output/text_1912240108.txt saved\n",
      "INFO:root:output/text_1912240108.txt loaded\n"
     ]
    },
    {
     "data": {
      "text/plain": [
       "'some random sentences\\nhere\\nand there'"
      ]
     },
     "execution_count": 8,
     "metadata": {},
     "output_type": "execute_result"
    }
   ],
   "source": [
    "text = '''some random sentences\n",
    "here\n",
    "and there'''\n",
    "sldt.s(text, 'output/text.txt')\n",
    "\n",
    "text = sldt.l('output/text.txt')\n",
    "text"
   ]
  },
  {
   "cell_type": "markdown",
   "metadata": {},
   "source": [
    "## helper functions"
   ]
  },
  {
   "cell_type": "markdown",
   "metadata": {},
   "source": [
    "you can save your own file type and load it back using `append_dt` and `find_newest`"
   ]
  },
  {
   "cell_type": "code",
   "execution_count": 9,
   "metadata": {
    "ExecuteTime": {
     "end_time": "2019-12-24T07:08:56.607171Z",
     "start_time": "2019-12-24T07:08:56.600671Z"
    }
   },
   "outputs": [],
   "source": [
    "import pickle\n",
    "\n",
    "output_filename = sldt.append_dt('output/sth.pkl', datetime_format=\"%y%m%d%H%M\")[0] # it returns a tuple as (filename, extension)\n",
    "with open(output_filename, 'wb') as f:\n",
    "    pickle.dump('some strings', f)"
   ]
  },
  {
   "cell_type": "code",
   "execution_count": 10,
   "metadata": {
    "ExecuteTime": {
     "end_time": "2019-12-24T07:08:56.626671Z",
     "start_time": "2019-12-24T07:08:56.611671Z"
    }
   },
   "outputs": [
    {
     "data": {
      "text/plain": [
       "'some strings'"
      ]
     },
     "execution_count": 10,
     "metadata": {},
     "output_type": "execute_result"
    }
   ],
   "source": [
    "newest_file = sldt.find_newest('output/sth.pkl')[0]\n",
    "with open(newest_file, 'rb') as f:\n",
    "    sth = pickle.load(f)\n",
    "sth"
   ]
  },
  {
   "cell_type": "code",
   "execution_count": null,
   "metadata": {},
   "outputs": [],
   "source": []
  }
 ],
 "metadata": {
  "kernelspec": {
   "display_name": "Python 3",
   "language": "python",
   "name": "python3"
  },
  "language_info": {
   "codemirror_mode": {
    "name": "ipython",
    "version": 3
   },
   "file_extension": ".py",
   "mimetype": "text/x-python",
   "name": "python",
   "nbconvert_exporter": "python",
   "pygments_lexer": "ipython3",
   "version": "3.7.3"
  },
  "toc": {
   "base_numbering": 1,
   "nav_menu": {},
   "number_sections": true,
   "sideBar": true,
   "skip_h1_title": false,
   "title_cell": "Table of Contents",
   "title_sidebar": "Contents",
   "toc_cell": false,
   "toc_position": {},
   "toc_section_display": true,
   "toc_window_display": false
  }
 },
 "nbformat": 4,
 "nbformat_minor": 2
}
