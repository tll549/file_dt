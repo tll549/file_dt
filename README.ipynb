{
 "cells": [
  {
   "cell_type": "markdown",
   "metadata": {},
   "source": [
    "This is a simple script that has only two functions for one purpose. It allows you to save files with date time appended behind the filename but in front of the extension, like `sldt.s(variable, 'filename.csv')` will save *variable* to a file \"filename_1912181212.csv\". Everytime you want to load it back, use `sldt.l('filename.csv')`, it will automatically find the newest file.\n",
    "\n",
    "This is useful when you want to save some intermediate result during running your code. But be aware the saved files will keep growing everytime you run.\n",
    "\n",
    "Feel free to download/edit this script, and maybe share your version with me!"
   ]
  },
  {
   "cell_type": "markdown",
   "metadata": {},
   "source": [
    "# Installation\n",
    "\n",
    "```\n",
    "pip install sldt\n",
    "```"
   ]
  },
  {
   "cell_type": "markdown",
   "metadata": {},
   "source": [
    "# Supported File Types\n",
    "\n",
    "It supports only 4 common file types now showed below. Basically it just calls like `pd.DataFrame.to_csv()` as you already familiar."
   ]
  },
  {
   "cell_type": "code",
   "execution_count": 1,
   "metadata": {
    "ExecuteTime": {
     "end_time": "2019-12-24T09:34:29.678165Z",
     "start_time": "2019-12-24T09:34:28.999191Z"
    }
   },
   "outputs": [],
   "source": [
    "import sldt"
   ]
  },
  {
   "cell_type": "code",
   "execution_count": 2,
   "metadata": {
    "ExecuteTime": {
     "end_time": "2019-12-24T09:34:29.692172Z",
     "start_time": "2019-12-24T09:34:29.681170Z"
    }
   },
   "outputs": [
    {
     "data": {
      "text/plain": [
       "'1.0.2'"
      ]
     },
     "execution_count": 2,
     "metadata": {},
     "output_type": "execute_result"
    }
   ],
   "source": [
    "sldt.__version__"
   ]
  },
  {
   "cell_type": "code",
   "execution_count": 3,
   "metadata": {
    "ExecuteTime": {
     "end_time": "2019-12-24T09:34:29.707171Z",
     "start_time": "2019-12-24T09:34:29.695170Z"
    }
   },
   "outputs": [
    {
     "data": {
      "text/plain": [
       "['.pkl', '.csv', '.png', '.txt']"
      ]
     },
     "execution_count": 3,
     "metadata": {},
     "output_type": "execute_result"
    }
   ],
   "source": [
    "sldt.SUPPORTED_EXT"
   ]
  },
  {
   "cell_type": "markdown",
   "metadata": {},
   "source": [
    "# Demo"
   ]
  },
  {
   "cell_type": "code",
   "execution_count": 4,
   "metadata": {
    "ExecuteTime": {
     "end_time": "2019-12-24T09:34:29.717173Z",
     "start_time": "2019-12-24T09:34:29.710170Z"
    }
   },
   "outputs": [],
   "source": [
    "# launch logger to see info when saving and loading files\n",
    "import logging\n",
    "logging.getLogger().setLevel(logging.INFO)"
   ]
  },
  {
   "cell_type": "markdown",
   "metadata": {},
   "source": [
    "## anything -> pkl"
   ]
  },
  {
   "cell_type": "code",
   "execution_count": 5,
   "metadata": {
    "ExecuteTime": {
     "end_time": "2019-12-24T09:35:29.747671Z",
     "start_time": "2019-12-24T09:34:29.719673Z"
    }
   },
   "outputs": [
    {
     "name": "stderr",
     "output_type": "stream",
     "text": [
      "INFO:root:output/a_list_1912240334.pkl saved\n",
      "INFO:root:output/a_list_1912240335.pkl saved\n",
      "INFO:root:output/a_list_1912240335.pkl loaded\n"
     ]
    },
    {
     "data": {
      "text/plain": [
       "['b', 0.2, True]"
      ]
     },
     "execution_count": 5,
     "metadata": {},
     "output_type": "execute_result"
    }
   ],
   "source": [
    "a_list = ['a', 0.1, False]\n",
    "# save\n",
    "sldt.s(a_list, 'output/a_list.pkl')\n",
    "\n",
    "# save the second file for demo\n",
    "import time\n",
    "time.sleep(60)\n",
    "a_list = ['b', 0.2, True]\n",
    "sldt.s(a_list, 'output/a_list.pkl')\n",
    "\n",
    "# load the newest (which is the later one) back\n",
    "a_list = sldt.l('output/a_list.pkl')\n",
    "a_list"
   ]
  },
  {
   "cell_type": "markdown",
   "metadata": {},
   "source": [
    "## pandas dataframe -> csv"
   ]
  },
  {
   "cell_type": "code",
   "execution_count": 6,
   "metadata": {
    "ExecuteTime": {
     "end_time": "2019-12-24T09:35:29.804169Z",
     "start_time": "2019-12-24T09:35:29.750670Z"
    }
   },
   "outputs": [
    {
     "name": "stderr",
     "output_type": "stream",
     "text": [
      "INFO:root:output/df_1912240335.csv saved\n",
      "INFO:root:output/df_1912240335.csv loaded\n"
     ]
    },
    {
     "data": {
      "text/html": [
       "<div>\n",
       "<style scoped>\n",
       "    .dataframe tbody tr th:only-of-type {\n",
       "        vertical-align: middle;\n",
       "    }\n",
       "\n",
       "    .dataframe tbody tr th {\n",
       "        vertical-align: top;\n",
       "    }\n",
       "\n",
       "    .dataframe thead th {\n",
       "        text-align: right;\n",
       "    }\n",
       "</style>\n",
       "<table border=\"1\" class=\"dataframe\">\n",
       "  <thead>\n",
       "    <tr style=\"text-align: right;\">\n",
       "      <th></th>\n",
       "      <th>col1</th>\n",
       "      <th>col2</th>\n",
       "    </tr>\n",
       "  </thead>\n",
       "  <tbody>\n",
       "    <tr>\n",
       "      <th>0</th>\n",
       "      <td>1</td>\n",
       "      <td>3</td>\n",
       "    </tr>\n",
       "    <tr>\n",
       "      <th>1</th>\n",
       "      <td>2</td>\n",
       "      <td>4</td>\n",
       "    </tr>\n",
       "  </tbody>\n",
       "</table>\n",
       "</div>"
      ],
      "text/plain": [
       "   col1  col2\n",
       "0     1     3\n",
       "1     2     4"
      ]
     },
     "execution_count": 6,
     "metadata": {},
     "output_type": "execute_result"
    }
   ],
   "source": [
    "import pandas as pd\n",
    "df = pd.DataFrame({'col1': [1, 2], 'col2': [3, 4]})\n",
    "sldt.s(df, 'output/df.csv')\n",
    "\n",
    "df = sldt.l('output/df.csv')\n",
    "df"
   ]
  },
  {
   "cell_type": "markdown",
   "metadata": {},
   "source": [
    "you can pass any argument as to `pd.DataFrame.to_csv()`, if there's no arguments in `save_dt`, the default will be `index=False`.\n",
    "\n",
    "For example, `save_dt(df, 'output/df.csv', sep=';')`"
   ]
  },
  {
   "cell_type": "markdown",
   "metadata": {},
   "source": [
    "## figure -> png"
   ]
  },
  {
   "cell_type": "code",
   "execution_count": 7,
   "metadata": {
    "ExecuteTime": {
     "end_time": "2019-12-24T09:35:32.950666Z",
     "start_time": "2019-12-24T09:35:29.815169Z"
    }
   },
   "outputs": [
    {
     "name": "stderr",
     "output_type": "stream",
     "text": [
      "INFO:root:output/g_1912240335.png saved\n"
     ]
    }
   ],
   "source": [
    "import seaborn as sns\n",
    "exercise = sns.load_dataset(\"exercise\")\n",
    "g = sns.catplot(x=\"time\", y=\"pulse\", hue=\"kind\", data=exercise)\n",
    "\n",
    "sldt.s(g, 'output/g.png')"
   ]
  },
  {
   "cell_type": "markdown",
   "metadata": {},
   "source": [
    "Display it using `![](output/g_1912240037.png)` in markdown."
   ]
  },
  {
   "cell_type": "markdown",
   "metadata": {},
   "source": [
    "the default arguments will be `dpi=600, bbox_inches='tight'`. And it will try to close the fig after saving the file."
   ]
  },
  {
   "cell_type": "markdown",
   "metadata": {},
   "source": [
    "## string -> txt"
   ]
  },
  {
   "cell_type": "code",
   "execution_count": 8,
   "metadata": {
    "ExecuteTime": {
     "end_time": "2019-12-24T09:35:32.968675Z",
     "start_time": "2019-12-24T09:35:32.954167Z"
    }
   },
   "outputs": [
    {
     "name": "stderr",
     "output_type": "stream",
     "text": [
      "INFO:root:output/text_1912240335.txt saved\n",
      "INFO:root:output/text_1912240335.txt loaded\n"
     ]
    },
    {
     "data": {
      "text/plain": [
       "'some random sentences\\nhere\\nand there'"
      ]
     },
     "execution_count": 8,
     "metadata": {},
     "output_type": "execute_result"
    }
   ],
   "source": [
    "text = '''some random sentences\n",
    "here\n",
    "and there'''\n",
    "sldt.s(text, 'output/text.txt')\n",
    "\n",
    "text = sldt.l('output/text.txt')\n",
    "text"
   ]
  },
  {
   "cell_type": "markdown",
   "metadata": {},
   "source": [
    "# helper functions"
   ]
  },
  {
   "cell_type": "markdown",
   "metadata": {},
   "source": [
    "you can save your own file type and load it back using `append_dt` and `find_newest`"
   ]
  },
  {
   "cell_type": "code",
   "execution_count": 9,
   "metadata": {
    "ExecuteTime": {
     "end_time": "2019-12-24T09:35:32.983173Z",
     "start_time": "2019-12-24T09:35:32.972669Z"
    }
   },
   "outputs": [],
   "source": [
    "import pickle\n",
    "\n",
    "output_filename = sldt.append_dt('output/sth.pkl', datetime_format=\"%y%m%d%H%M\")[0]\n",
    "with open(output_filename, 'wb') as f:\n",
    "    pickle.dump('some strings', f)"
   ]
  },
  {
   "cell_type": "code",
   "execution_count": 10,
   "metadata": {
    "ExecuteTime": {
     "end_time": "2019-12-24T09:35:33.000673Z",
     "start_time": "2019-12-24T09:35:32.986670Z"
    }
   },
   "outputs": [
    {
     "data": {
      "text/plain": [
       "'some strings'"
      ]
     },
     "execution_count": 10,
     "metadata": {},
     "output_type": "execute_result"
    }
   ],
   "source": [
    "newest_file = sldt.find_newest('output/sth.pkl')[0]\n",
    "with open(newest_file, 'rb') as f:\n",
    "    sth = pickle.load(f)\n",
    "sth"
   ]
  },
  {
   "cell_type": "markdown",
   "metadata": {},
   "source": [
    "`find_newest` returns a tuplet (filename, extension)"
   ]
  },
  {
   "cell_type": "code",
   "execution_count": 11,
   "metadata": {
    "ExecuteTime": {
     "end_time": "2019-12-24T09:35:33.010674Z",
     "start_time": "2019-12-24T09:35:33.003670Z"
    }
   },
   "outputs": [
    {
     "data": {
      "text/plain": [
       "('output/text_1912240335.txt', '.txt')"
      ]
     },
     "execution_count": 11,
     "metadata": {},
     "output_type": "execute_result"
    }
   ],
   "source": [
    "sldt.find_newest('output/text.txt')"
   ]
  },
  {
   "cell_type": "markdown",
   "metadata": {},
   "source": [
    "It can be served as checking whether file is exist"
   ]
  },
  {
   "cell_type": "code",
   "execution_count": 12,
   "metadata": {
    "ExecuteTime": {
     "end_time": "2019-12-24T09:35:33.021682Z",
     "start_time": "2019-12-24T09:35:33.013669Z"
    }
   },
   "outputs": [
    {
     "name": "stdout",
     "output_type": "stream",
     "text": [
      "file exist\n"
     ]
    }
   ],
   "source": [
    "try:\n",
    "    sldt.find_newest('output/text.txt')\n",
    "    print('file exist')\n",
    "except:\n",
    "    print('no file exist')"
   ]
  },
  {
   "cell_type": "markdown",
   "metadata": {},
   "source": [
    "Similarly, load only if you haven't save the needed file"
   ]
  },
  {
   "cell_type": "code",
   "execution_count": 13,
   "metadata": {
    "ExecuteTime": {
     "end_time": "2019-12-24T09:35:33.036168Z",
     "start_time": "2019-12-24T09:35:33.024670Z"
    }
   },
   "outputs": [
    {
     "name": "stderr",
     "output_type": "stream",
     "text": [
      "INFO:root:output/result_1912240335.csv saved\n"
     ]
    }
   ],
   "source": [
    "try:\n",
    "    sldt.l('output/result.csv')\n",
    "except:\n",
    "    # do some calculation\n",
    "    result = pd.DataFrame({'col1': [1, 2], 'col2': [3, 4]})\n",
    "    # save calculation result\n",
    "    sldt.s(result, 'output/result.csv')"
   ]
  }
 ],
 "metadata": {
  "kernelspec": {
   "display_name": "Python 3",
   "language": "python",
   "name": "python3"
  },
  "language_info": {
   "codemirror_mode": {
    "name": "ipython",
    "version": 3
   },
   "file_extension": ".py",
   "mimetype": "text/x-python",
   "name": "python",
   "nbconvert_exporter": "python",
   "pygments_lexer": "ipython3",
   "version": "3.7.3"
  },
  "toc": {
   "base_numbering": 1,
   "nav_menu": {},
   "number_sections": true,
   "sideBar": true,
   "skip_h1_title": false,
   "title_cell": "Table of Contents",
   "title_sidebar": "Contents",
   "toc_cell": false,
   "toc_position": {},
   "toc_section_display": true,
   "toc_window_display": false
  }
 },
 "nbformat": 4,
 "nbformat_minor": 2
}
